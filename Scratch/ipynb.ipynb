{
 "cells": [
  {
   "cell_type": "code",
   "execution_count": 9,
   "metadata": {},
   "outputs": [],
   "source": [
    "# This code is implemented for scratch lesson\n",
    "# Author: Yee Ren\n",
    "\n",
    "import matplotlib.pyplot as plt\n",
    "from statistics import mean \n",
    "import numpy as np\n",
    "import pandas as pd\n",
    "import math"
   ]
  },
  {
   "cell_type": "code",
   "execution_count": 27,
   "metadata": {},
   "outputs": [],
   "source": [
    "# data preperation\n",
    "\n",
    "# student name\n",
    "list_students = ['aaa', 'bbb', 'ccc']\n",
    "# student points\n",
    "list_points = [10, 10, 10]\n",
    "# colors\n",
    "list_colors = ['dodgerblue', 'lightpink', 'orange']\n",
    "# position list of bars\n",
    "pos = np.arange(0, len(list_points) * 2 - 1, 2)\n",
    "size = len(list_students)"
   ]
  },
  {
   "cell_type": "code",
   "execution_count": 34,
   "metadata": {},
   "outputs": [
    {
     "data": {
      "image/png": "[encoded data removed]",
      "text/plain": [
       "<Figure size 720x432 with 1 Axes>"
      ]
     },
     "metadata": {
      "needs_background": "light"
     },
     "output_type": "display_data"
    }
   ],
   "source": [
    "fig = plt.gcf()\n",
    "ax = plt.gca()\n",
    "plt.title('Lesson 7: xxxxxx', fontsize=18, y=1.02)\n",
    "fig.set_size_inches(10, 6)\n",
    "# show points\n",
    "bar_list = ax.bar(pos, list_points, width=0.8, label=\"ALL\")\n",
    "# show name\n",
    "plt.xticks(fontsize=14)\n",
    "ax.set_xticks(pos)\n",
    "ax.set_xticklabels(list_students)\n",
    "# setup colors\n",
    "for i in range(size):\n",
    "    bar_list[i].set_color(list_colors[i])\n",
    "    \n",
    "\n",
    "plt.show()"
   ]
  },
  {
   "cell_type": "code",
   "execution_count": null,
   "metadata": {},
   "outputs": [],
   "source": []
  }
 ],
 "metadata": {
  "kernelspec": {
   "display_name": "Python 3",
   "language": "python",
   "name": "python3"
  },
  "language_info": {
   "codemirror_mode": {
    "name": "ipython",
    "version": 3
   },
   "file_extension": ".py",
   "mimetype": "text/x-python",
   "name": "python",
   "nbconvert_exporter": "python",
   "pygments_lexer": "ipython3",
   "version": "3.6.11"
  }
 },
 "nbformat": 4,
 "nbformat_minor": 4
}
